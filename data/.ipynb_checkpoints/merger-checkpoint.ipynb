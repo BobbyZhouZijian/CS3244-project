{
 "cells": [
  {
   "cell_type": "code",
   "execution_count": 1,
   "metadata": {},
   "outputs": [],
   "source": [
    "import numpy as np\n",
    "import pandas as pd"
   ]
  },
  {
   "cell_type": "code",
   "execution_count": 2,
   "metadata": {},
   "outputs": [],
   "source": [
    "df1 = pd.read_csv(\"./matches/1.csv\")\n",
    "df2 = pd.read_csv(\"./matches/2.csv\")\n",
    "df3 = pd.read_csv(\"./matches/3.csv\")\n",
    "df4 = pd.read_csv(\"./matches/4.csv\")\n",
    "df5 = pd.read_csv(\"./matches/5.csv\")\n",
    "df6 = pd.read_csv(\"./matches/6.csv\")\n",
    "df7 = pd.read_csv(\"./matches/7.csv\")\n",
    "df8 = pd.read_csv(\"./matches/8.csv\")\n",
    "df9 = pd.read_csv(\"./matches/9.csv\")\n",
    "df10 = pd.read_csv(\"./matches/10.csv\")\n",
    "df11 = pd.read_csv(\"./matches/11.csv\")\n",
    "df12 = pd.read_csv(\"./matches/12.csv\")\n",
    "\n",
    "dfs = [df1,df2,df3,df4,df5,df6,df7,df8,df9,df10,df11,df12]"
   ]
  },
  {
   "cell_type": "code",
   "execution_count": 3,
   "metadata": {},
   "outputs": [],
   "source": [
    "for i in range(len(dfs)):\n",
    "    titles = dfs[i].loc[0].values\n",
    "    dfs[i].columns = titles\n",
    "    dfs[i].drop(index=0, inplace=True)\n",
    "    dfs[i].drop(columns=['Rk'], inplace=True)\n",
    "    dfs[i] = dfs[i].loc[:, dfs[i].columns.notnull()]"
   ]
  },
  {
   "cell_type": "code",
   "execution_count": 5,
   "metadata": {},
   "outputs": [],
   "source": [
    "res = dfs[0]\n",
    "\n",
    "for i in range(1, len(dfs)):\n",
    "    res = pd.concat([res, dfs[i]])"
   ]
  },
  {
   "cell_type": "code",
   "execution_count": 11,
   "metadata": {},
   "outputs": [],
   "source": [
    "res = res.reset_index()"
   ]
  },
  {
   "cell_type": "code",
   "execution_count": 12,
   "metadata": {},
   "outputs": [],
   "source": [
    "res.drop(columns=['index'],inplace=True)"
   ]
  },
  {
   "cell_type": "code",
   "execution_count": 14,
   "metadata": {},
   "outputs": [],
   "source": [
    "res.to_csv('./match_data.csv')"
   ]
  },
  {
   "cell_type": "code",
   "execution_count": null,
   "metadata": {},
   "outputs": [],
   "source": []
  }
 ],
 "metadata": {
  "kernelspec": {
   "display_name": "Python 3",
   "language": "python",
   "name": "python3"
  },
  "language_info": {
   "codemirror_mode": {
    "name": "ipython",
    "version": 3
   },
   "file_extension": ".py",
   "mimetype": "text/x-python",
   "name": "python",
   "nbconvert_exporter": "python",
   "pygments_lexer": "ipython3",
   "version": "3.7.7"
  }
 },
 "nbformat": 4,
 "nbformat_minor": 4
}
