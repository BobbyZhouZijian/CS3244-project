{
 "cells": [
  {
   "cell_type": "code",
   "execution_count": 1,
   "metadata": {},
   "outputs": [],
   "source": [
    "import pandas as pd\n",
    "import numpy as np\n",
    "import seaborn as sns\n",
    "import matplotlib.pyplot as plt"
   ]
  },
  {
   "cell_type": "code",
   "execution_count": 2,
   "metadata": {},
   "outputs": [],
   "source": [
    "df = pd.read_csv(\"./combined_match_data_features.csv\")\n",
    "df.drop(columns=[\"Unnamed: 0\"], inplace=True)"
   ]
  },
  {
   "cell_type": "code",
   "execution_count": 3,
   "metadata": {},
   "outputs": [],
   "source": [
    "y = df['Result']\n",
    "df['y'] = df['Result'].apply(lambda x : 1 if x[0] == 'W' else 0)"
   ]
  },
  {
   "cell_type": "code",
   "execution_count": 7,
   "metadata": {},
   "outputs": [
    {
     "data": {
      "text/plain": [
       "0    304\n",
       "1    296\n",
       "Name: y, dtype: int64"
      ]
     },
     "execution_count": 7,
     "metadata": {},
     "output_type": "execute_result"
    }
   ],
   "source": [
    "df['y'].value_counts()"
   ]
  },
  {
   "cell_type": "code",
   "execution_count": 8,
   "metadata": {},
   "outputs": [
    {
     "data": {
      "text/plain": [
       "Index(['Date', 'Tm', 'Opp', 'Result', 'MP', 'FG', 'FGA', 'FG%', '2P', '2PA',\n",
       "       '2P%', '3P', '3PA', '3P%', 'FT', 'FTA', 'FT%', 'PTS', 'FG.1', 'FGA.1',\n",
       "       'FG%.1', '2P.1', '2PA.1', '2P%.1', '3P.1', '3PA.1', '3P%.1', 'FT.1',\n",
       "       'FTA.1', 'FT%.1', 'PTS.1', 'FG_players', 'FGA_players', 'FG%_players',\n",
       "       '3P_players', '3PA_players', '3P%_players', 'FT_players', 'FTA_players',\n",
       "       'FT%_players', 'ORB_players', 'DRB_players', 'TRB_players',\n",
       "       'AST_players', 'STL_players', 'BLK_players', 'TOV_players',\n",
       "       'PF_players', 'PTS_players', '+/-_players', 'TS%_players',\n",
       "       'eFG%_players', '3PAr_players', 'FTr_players', 'ORB%_players',\n",
       "       'DRB%_players', 'TRB%_players', 'AST%_players', 'STL%_players',\n",
       "       'BLK%_players', 'TOV%_players', 'USG%_players', 'ORtg_players',\n",
       "       'DRtg_players', 'BPM_players', 'A/T', 'EFF', 'y'],\n",
       "      dtype='object')"
      ]
     },
     "execution_count": 8,
     "metadata": {},
     "output_type": "execute_result"
    }
   ],
   "source": [
    "df.columns"
   ]
  },
  {
   "cell_type": "code",
   "execution_count": 9,
   "metadata": {},
   "outputs": [],
   "source": [
    "corrMatrix = df.corr()\n",
    "upper = corrMatrix.where(np.triu(np.ones(corrMatrix.shape), k=1).astype(np.bool))\n",
    "to_drop = [column for column in upper.columns if any(upper[column] > 0.95)]"
   ]
  },
  {
   "cell_type": "code",
   "execution_count": 10,
   "metadata": {},
   "outputs": [],
   "source": [
    "df.drop(columns=to_drop, inplace=True)"
   ]
  },
  {
   "cell_type": "code",
   "execution_count": 11,
   "metadata": {},
   "outputs": [
    {
     "data": {
      "text/plain": [
       "Index(['Date', 'Tm', 'Opp', 'Result', 'MP', 'FG', 'FGA', 'FG%', '2P', '2PA',\n",
       "       '2P%', '3P', '3PA', '3P%', 'FT', 'FTA', 'FT%', 'PTS', 'FG.1', 'FGA.1',\n",
       "       'FG%.1', '2P.1', '2PA.1', '2P%.1', '3P.1', '3PA.1', '3P%.1', 'FT.1',\n",
       "       'FTA.1', 'FT%.1', 'PTS.1', 'FG_players', 'FGA_players', 'FG%_players',\n",
       "       '3P_players', '3PA_players', '3P%_players', 'FT_players', 'FTA_players',\n",
       "       'FT%_players', 'ORB_players', 'DRB_players', 'TRB_players',\n",
       "       'AST_players', 'STL_players', 'BLK_players', 'TOV_players',\n",
       "       'PF_players', 'PTS_players', 'TS%_players', '3PAr_players',\n",
       "       'FTr_players', 'ORB%_players', 'TRB%_players', 'AST%_players',\n",
       "       'STL%_players', 'BLK%_players', 'TOV%_players', 'USG%_players',\n",
       "       'ORtg_players', 'A/T', 'EFF', 'y'],\n",
       "      dtype='object')"
      ]
     },
     "execution_count": 11,
     "metadata": {},
     "output_type": "execute_result"
    }
   ],
   "source": [
    "df.columns"
   ]
  },
  {
   "cell_type": "code",
   "execution_count": 12,
   "metadata": {},
   "outputs": [],
   "source": [
    "df.drop(columns=['Date', 'Tm', 'Opp', 'Result'], inplace=True)"
   ]
  },
  {
   "cell_type": "code",
   "execution_count": 14,
   "metadata": {},
   "outputs": [],
   "source": [
    "df.to_csv(\"match_features.csv\")"
   ]
  },
  {
   "cell_type": "code",
   "execution_count": null,
   "metadata": {},
   "outputs": [],
   "source": []
  }
 ],
 "metadata": {
  "kernelspec": {
   "display_name": "Python 3",
   "language": "python",
   "name": "python3"
  },
  "language_info": {
   "codemirror_mode": {
    "name": "ipython",
    "version": 3
   },
   "file_extension": ".py",
   "mimetype": "text/x-python",
   "name": "python",
   "nbconvert_exporter": "python",
   "pygments_lexer": "ipython3",
   "version": "3.8.5"
  }
 },
 "nbformat": 4,
 "nbformat_minor": 4
}
