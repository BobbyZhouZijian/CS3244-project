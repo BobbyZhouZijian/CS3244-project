{
 "cells": [
  {
   "cell_type": "code",
   "execution_count": 33,
   "metadata": {},
   "outputs": [],
   "source": [
    "import pandas as pd\n",
    "import numpy as np"
   ]
  },
  {
   "cell_type": "code",
   "execution_count": 34,
   "metadata": {},
   "outputs": [
    {
     "data": {
      "text/html": [
       "<div>\n",
       "<style scoped>\n",
       "    .dataframe tbody tr th:only-of-type {\n",
       "        vertical-align: middle;\n",
       "    }\n",
       "\n",
       "    .dataframe tbody tr th {\n",
       "        vertical-align: top;\n",
       "    }\n",
       "\n",
       "    .dataframe thead th {\n",
       "        text-align: right;\n",
       "    }\n",
       "</style>\n",
       "<table border=\"1\" class=\"dataframe\">\n",
       "  <thead>\n",
       "    <tr style=\"text-align: right;\">\n",
       "      <th></th>\n",
       "      <th>Unnamed: 0</th>\n",
       "      <th>MP</th>\n",
       "      <th>FG</th>\n",
       "      <th>FGA</th>\n",
       "      <th>FG%</th>\n",
       "      <th>2P</th>\n",
       "      <th>2PA</th>\n",
       "      <th>2P%</th>\n",
       "      <th>3P</th>\n",
       "      <th>3PA</th>\n",
       "      <th>...</th>\n",
       "      <th>TRB%_players</th>\n",
       "      <th>AST%_players</th>\n",
       "      <th>STL%_players</th>\n",
       "      <th>BLK%_players</th>\n",
       "      <th>TOV%_players</th>\n",
       "      <th>USG%_players</th>\n",
       "      <th>ORtg_players</th>\n",
       "      <th>A/T</th>\n",
       "      <th>EFF</th>\n",
       "      <th>y</th>\n",
       "    </tr>\n",
       "  </thead>\n",
       "  <tbody>\n",
       "    <tr>\n",
       "      <th>0</th>\n",
       "      <td>0</td>\n",
       "      <td>0</td>\n",
       "      <td>6</td>\n",
       "      <td>8</td>\n",
       "      <td>0.023</td>\n",
       "      <td>5</td>\n",
       "      <td>8</td>\n",
       "      <td>0.007</td>\n",
       "      <td>1</td>\n",
       "      <td>0</td>\n",
       "      <td>...</td>\n",
       "      <td>-0.008681</td>\n",
       "      <td>1.911229</td>\n",
       "      <td>0.812160</td>\n",
       "      <td>0.494660</td>\n",
       "      <td>2.561424</td>\n",
       "      <td>0.008542</td>\n",
       "      <td>11.988958</td>\n",
       "      <td>-9.843863</td>\n",
       "      <td>7.181944</td>\n",
       "      <td>1</td>\n",
       "    </tr>\n",
       "    <tr>\n",
       "      <th>1</th>\n",
       "      <td>1</td>\n",
       "      <td>0</td>\n",
       "      <td>-4</td>\n",
       "      <td>-6</td>\n",
       "      <td>-0.016</td>\n",
       "      <td>-2</td>\n",
       "      <td>2</td>\n",
       "      <td>-0.059</td>\n",
       "      <td>-2</td>\n",
       "      <td>-8</td>\n",
       "      <td>...</td>\n",
       "      <td>0.856354</td>\n",
       "      <td>-3.154868</td>\n",
       "      <td>0.438028</td>\n",
       "      <td>-1.437743</td>\n",
       "      <td>0.861069</td>\n",
       "      <td>0.004507</td>\n",
       "      <td>-8.725278</td>\n",
       "      <td>-2.447505</td>\n",
       "      <td>-0.709306</td>\n",
       "      <td>0</td>\n",
       "    </tr>\n",
       "    <tr>\n",
       "      <th>2</th>\n",
       "      <td>2</td>\n",
       "      <td>0</td>\n",
       "      <td>14</td>\n",
       "      <td>7</td>\n",
       "      <td>0.119</td>\n",
       "      <td>9</td>\n",
       "      <td>8</td>\n",
       "      <td>0.093</td>\n",
       "      <td>5</td>\n",
       "      <td>-1</td>\n",
       "      <td>...</td>\n",
       "      <td>0.237764</td>\n",
       "      <td>-2.612667</td>\n",
       "      <td>-0.216451</td>\n",
       "      <td>0.844785</td>\n",
       "      <td>-2.610431</td>\n",
       "      <td>0.014319</td>\n",
       "      <td>24.842083</td>\n",
       "      <td>-3.091164</td>\n",
       "      <td>0.320417</td>\n",
       "      <td>1</td>\n",
       "    </tr>\n",
       "    <tr>\n",
       "      <th>3</th>\n",
       "      <td>3</td>\n",
       "      <td>0</td>\n",
       "      <td>-5</td>\n",
       "      <td>2</td>\n",
       "      <td>-0.073</td>\n",
       "      <td>-6</td>\n",
       "      <td>-3</td>\n",
       "      <td>-0.081</td>\n",
       "      <td>1</td>\n",
       "      <td>5</td>\n",
       "      <td>...</td>\n",
       "      <td>-1.013229</td>\n",
       "      <td>0.323562</td>\n",
       "      <td>0.000597</td>\n",
       "      <td>-0.465271</td>\n",
       "      <td>3.850118</td>\n",
       "      <td>0.030243</td>\n",
       "      <td>-21.961042</td>\n",
       "      <td>1.661678</td>\n",
       "      <td>-0.923681</td>\n",
       "      <td>0</td>\n",
       "    </tr>\n",
       "    <tr>\n",
       "      <th>4</th>\n",
       "      <td>4</td>\n",
       "      <td>0</td>\n",
       "      <td>10</td>\n",
       "      <td>13</td>\n",
       "      <td>0.048</td>\n",
       "      <td>9</td>\n",
       "      <td>13</td>\n",
       "      <td>0.041</td>\n",
       "      <td>1</td>\n",
       "      <td>0</td>\n",
       "      <td>...</td>\n",
       "      <td>0.402292</td>\n",
       "      <td>0.302417</td>\n",
       "      <td>0.613111</td>\n",
       "      <td>0.396278</td>\n",
       "      <td>-2.840465</td>\n",
       "      <td>-0.013535</td>\n",
       "      <td>14.925347</td>\n",
       "      <td>-1.038275</td>\n",
       "      <td>0.578611</td>\n",
       "      <td>1</td>\n",
       "    </tr>\n",
       "  </tbody>\n",
       "</table>\n",
       "<p>5 rows × 85 columns</p>\n",
       "</div>"
      ],
      "text/plain": [
       "   Unnamed: 0  MP  FG  FGA    FG%  2P  2PA    2P%  3P  3PA  ...  TRB%_players  \\\n",
       "0           0   0   6    8  0.023   5    8  0.007   1    0  ...     -0.008681   \n",
       "1           1   0  -4   -6 -0.016  -2    2 -0.059  -2   -8  ...      0.856354   \n",
       "2           2   0  14    7  0.119   9    8  0.093   5   -1  ...      0.237764   \n",
       "3           3   0  -5    2 -0.073  -6   -3 -0.081   1    5  ...     -1.013229   \n",
       "4           4   0  10   13  0.048   9   13  0.041   1    0  ...      0.402292   \n",
       "\n",
       "   AST%_players  STL%_players  BLK%_players  TOV%_players  USG%_players  \\\n",
       "0      1.911229      0.812160      0.494660      2.561424      0.008542   \n",
       "1     -3.154868      0.438028     -1.437743      0.861069      0.004507   \n",
       "2     -2.612667     -0.216451      0.844785     -2.610431      0.014319   \n",
       "3      0.323562      0.000597     -0.465271      3.850118      0.030243   \n",
       "4      0.302417      0.613111      0.396278     -2.840465     -0.013535   \n",
       "\n",
       "   ORtg_players       A/T       EFF  y  \n",
       "0     11.988958 -9.843863  7.181944  1  \n",
       "1     -8.725278 -2.447505 -0.709306  0  \n",
       "2     24.842083 -3.091164  0.320417  1  \n",
       "3    -21.961042  1.661678 -0.923681  0  \n",
       "4     14.925347 -1.038275  0.578611  1  \n",
       "\n",
       "[5 rows x 85 columns]"
      ]
     },
     "execution_count": 34,
     "metadata": {},
     "output_type": "execute_result"
    }
   ],
   "source": [
    "df = pd.read_csv(\"../data/match_features.csv\")\n",
    "df.head()"
   ]
  },
  {
   "cell_type": "code",
   "execution_count": 35,
   "metadata": {},
   "outputs": [],
   "source": [
    "import seaborn as sns\n",
    "import numpy as np # linear algebra\n",
    "from sklearn.svm import SVC\n",
    "from sklearn.model_selection import train_test_split\n",
    "from sklearn import preprocessing\n",
    "from sklearn import utils\n",
    "from sklearn import metrics\n",
    "from sklearn.preprocessing import MinMaxScaler\n",
    "from sklearn.metrics import precision_score"
   ]
  },
  {
   "cell_type": "code",
   "execution_count": 36,
   "metadata": {},
   "outputs": [
    {
     "data": {
      "text/plain": [
       "Index(['MP', 'FG', 'FGA', 'FG%', '2P', '2PA', '2P%', '3P', '3PA', '3P%', 'FT',\n",
       "       'FTA', 'FT%', 'PTS', 'FG.1', 'FGA.1', 'FG%.1', '2P.1', '2PA.1', '2P%.1',\n",
       "       '3P.1', '3PA.1', '3P%.1', 'FT.1', 'FTA.1', 'FT%.1', 'PTS.1', 'FG_AVG',\n",
       "       'FGA_AVG', 'FG%_AVG', '2P_AVG', '2PA_AVG', '2P%_AVG', '3P_AVG',\n",
       "       '3PA_AVG', '3P%_AVG', 'FT_AVG', 'FTA_AVG', 'FT%_AVG', 'PTS_AVG',\n",
       "       'FG_AVG.1', 'FGA_AVG.1', 'FG%_AVG.1', '2P_AVG.1', '2PA_AVG.1',\n",
       "       '2P%_AVG.1', '3P_AVG.1', '3PA_AVG.1', '3P%_AVG.1', 'FT_AVG.1',\n",
       "       'FT%_AVG.1', 'PTS_AVG.1', 'FG_players', 'FGA_players', 'FG%_players',\n",
       "       '3P_players', '3PA_players', '3P%_players', 'FT_players', 'FTA_players',\n",
       "       'FT%_players', 'ORB_players', 'DRB_players', 'TRB_players',\n",
       "       'AST_players', 'STL_players', 'BLK_players', 'TOV_players',\n",
       "       'PF_players', 'PTS_players', 'TS%_players', '3PAr_players',\n",
       "       'FTr_players', 'ORB%_players', 'TRB%_players', 'AST%_players',\n",
       "       'STL%_players', 'BLK%_players', 'TOV%_players', 'USG%_players',\n",
       "       'ORtg_players', 'A/T', 'EFF'],\n",
       "      dtype='object')"
      ]
     },
     "execution_count": 36,
     "metadata": {},
     "output_type": "execute_result"
    }
   ],
   "source": [
    "y_t = np.array(df['y'])\n",
    "X_t.columns"
   ]
  },
  {
   "cell_type": "code",
   "execution_count": 50,
   "metadata": {},
   "outputs": [
    {
     "data": {
      "text/plain": [
       "Index(['FG_AVG', 'FGA_AVG', 'FG%_AVG', '2P_AVG', '2PA_AVG', '2P%_AVG',\n",
       "       '3P_AVG', '3PA_AVG', '3P%_AVG', 'FT_AVG', 'FTA_AVG', 'FT%_AVG',\n",
       "       'PTS_AVG', 'FG_AVG.1', 'FGA_AVG.1', 'FG%_AVG.1', '2P_AVG.1',\n",
       "       '2PA_AVG.1', '2P%_AVG.1', '3P_AVG.1', '3PA_AVG.1', '3P%_AVG.1',\n",
       "       'FT_AVG.1', 'FT%_AVG.1', 'PTS_AVG.1', 'FG_players', 'FGA_players',\n",
       "       'FG%_players', '3P_players', '3PA_players', '3P%_players', 'FT_players',\n",
       "       'FTA_players', 'FT%_players', 'ORB_players', 'DRB_players',\n",
       "       'TRB_players', 'AST_players', 'STL_players', 'BLK_players',\n",
       "       'TOV_players', 'PF_players', 'PTS_players', 'TS%_players',\n",
       "       '3PAr_players', 'FTr_players', 'ORB%_players', 'TRB%_players',\n",
       "       'AST%_players', 'STL%_players', 'BLK%_players', 'TOV%_players',\n",
       "       'USG%_players', 'ORtg_players'],\n",
       "      dtype='object')"
      ]
     },
     "execution_count": 50,
     "metadata": {},
     "output_type": "execute_result"
    }
   ],
   "source": [
    "X_t = df.drop(columns=['Unnamed: 0', 'y', 'MP', 'FG', 'FGA', 'FG%', '2P', '2PA', '2P%', '3P', '3PA', '3P%', 'FT',\n",
    "       'FTA', 'FT%', 'PTS', 'FG.1', 'FGA.1', 'FG%.1', '2P.1', '2PA.1', '2P%.1',\n",
    "       '3P.1', '3PA.1', '3P%.1', 'FT.1', 'FTA.1', 'FT%.1', 'PTS.1',  'A/T', 'EFF'],axis=1)\n",
    "X_t.columns"
   ]
  },
  {
   "cell_type": "code",
   "execution_count": 51,
   "metadata": {},
   "outputs": [
    {
     "name": "stdout",
     "output_type": "stream",
     "text": [
      "shape of Y :(1143,)\n",
      "shape of X :(1143, 54)\n"
     ]
    }
   ],
   "source": [
    "X_t = np.array(X_t)\n",
    "\n",
    "lab_enc = preprocessing.LabelEncoder()\n",
    "y_t = lab_enc.fit_transform(y_t)\n",
    "\n",
    "print(\"shape of Y :\"+ str(y_t.shape))\n",
    "print(\"shape of X :\"+ str(X_t.shape))\n",
    "\n",
    "scaler = MinMaxScaler()\n",
    "X_t = scaler.fit_transform(X_t)"
   ]
  },
  {
   "cell_type": "code",
   "execution_count": 52,
   "metadata": {},
   "outputs": [
    {
     "name": "stdout",
     "output_type": "stream",
     "text": [
      "shape of X Train :(914, 54)\n",
      "shape of X Test :(229, 54)\n",
      "shape of Y Train :(914,)\n",
      "shape of Y Test :(229,)\n",
      "binary\n",
      "binary\n"
     ]
    }
   ],
   "source": [
    "X_train,X_test,Y_train,Y_test = train_test_split(X_t,y_t,test_size=.20,random_state=24)\n",
    "print(\"shape of X Train :\"+str(X_train.shape))\n",
    "print(\"shape of X Test :\"+str(X_test.shape))\n",
    "print(\"shape of Y Train :\"+str(Y_train.shape))\n",
    "print(\"shape of Y Test :\"+str(Y_test.shape))\n",
    "\n",
    "\n",
    "print(utils.multiclass.type_of_target(Y_train))\n",
    "print(utils.multiclass.type_of_target(Y_test))"
   ]
  },
  {
   "cell_type": "code",
   "execution_count": 53,
   "metadata": {},
   "outputs": [
    {
     "name": "stdout",
     "output_type": "stream",
     "text": [
      "Linear SVM value of C:1, training score :0.945295 , Test Score: 0.925764 \n",
      "Test precision: 0.934579, Test roc: 0.926306\n",
      "\n",
      "Linear SVM value of C:3, training score :0.954048 , Test Score: 0.934498 \n",
      "Test precision: 0.925234, Test roc: 0.933928\n",
      "\n",
      "Linear SVM value of C:5, training score :0.956236 , Test Score: 0.930131 \n",
      "Test precision: 0.934579, Test roc: 0.930404\n",
      "\n",
      "Linear SVM value of C:10, training score :0.966083 , Test Score: 0.925764 \n",
      "Test precision: 0.934579, Test roc: 0.926306\n",
      "\n",
      "Linear SVM value of C:40, training score :0.966083 , Test Score: 0.921397 \n",
      "Test precision: 0.925234, Test roc: 0.921633\n",
      "\n",
      "Linear SVM value of C:60, training score :0.967177 , Test Score: 0.921397 \n",
      "Test precision: 0.925234, Test roc: 0.921633\n",
      "\n",
      "Linear SVM value of C:80, training score :0.967177 , Test Score: 0.921397 \n",
      "Test precision: 0.925234, Test roc: 0.921633\n",
      "\n",
      "Linear SVM value of C:100, training score :0.966083 , Test Score: 0.921397 \n",
      "Test precision: 0.925234, Test roc: 0.921633\n",
      "\n"
     ]
    }
   ],
   "source": [
    "for this_C in [1,3,5,10,40,60,80,100]:\n",
    "    clf = SVC(kernel='linear',C=this_C).fit(X_train,Y_train)\n",
    "    scoretrain = clf.score(X_train,Y_train)\n",
    "    scoretest  = clf.score(X_test,Y_test)\n",
    "    Y_predict = clf.predict(X_test)\n",
    "    precisiontest = precision_score(Y_predict, Y_test)\n",
    "    fpr, tpr, thresholds = metrics.roc_curve(Y_test, Y_predict)\n",
    "    roc = metrics.auc(fpr, tpr)\n",
    "    print(\"Linear SVM value of C:{}, training score :{:2f} , Test Score: {:2f} \".format(this_C,scoretrain,scoretest))\n",
    "    print(\"Test precision: {:2f}, Test roc: {:2f}\\n\".format(precisiontest, roc))"
   ]
  },
  {
   "cell_type": "code",
   "execution_count": 55,
   "metadata": {},
   "outputs": [
    {
     "name": "stdout",
     "output_type": "stream",
     "text": [
      "Poly SVM value of C:1, training score :1.000000 , Test Score: 0.925764 \n",
      "Test precision: 0.943925, Test roc: 0.926881\n",
      "\n",
      "Poly SVM value of C:3, training score :1.000000 , Test Score: 0.925764 \n",
      "Test precision: 0.943925, Test roc: 0.926881\n",
      "\n",
      "Poly SVM value of C:5, training score :1.000000 , Test Score: 0.925764 \n",
      "Test precision: 0.943925, Test roc: 0.926881\n",
      "\n",
      "Poly SVM value of C:10, training score :1.000000 , Test Score: 0.925764 \n",
      "Test precision: 0.943925, Test roc: 0.926881\n",
      "\n",
      "Poly SVM value of C:40, training score :1.000000 , Test Score: 0.925764 \n",
      "Test precision: 0.943925, Test roc: 0.926881\n",
      "\n",
      "Poly SVM value of C:60, training score :1.000000 , Test Score: 0.925764 \n",
      "Test precision: 0.943925, Test roc: 0.926881\n",
      "\n",
      "Poly SVM value of C:80, training score :1.000000 , Test Score: 0.925764 \n",
      "Test precision: 0.943925, Test roc: 0.926881\n",
      "\n",
      "Poly SVM value of C:100, training score :1.000000 , Test Score: 0.925764 \n",
      "Test precision: 0.943925, Test roc: 0.926881\n",
      "\n"
     ]
    }
   ],
   "source": [
    "for this_C in [1,3,5,10,40,60,80,100]:\n",
    "    clf = SVC(kernel='poly',C=this_C).fit(X_train,Y_train)\n",
    "    scoretrain = clf.score(X_train,Y_train)\n",
    "    scoretest  = clf.score(X_test,Y_test)\n",
    "    Y_predict = clf.predict(X_test)\n",
    "    precisiontest = precision_score(Y_predict, Y_test)\n",
    "    fpr, tpr, thresholds = metrics.roc_curve(Y_test, Y_predict)\n",
    "    roc = metrics.auc(fpr, tpr)\n",
    "    print(\"Poly SVM value of C:{}, training score :{:2f} , Test Score: {:2f} \".format(this_C,scoretrain,scoretest))\n",
    "    print(\"Test precision: {:2f}, Test roc: {:2f}\\n\".format(precisiontest, roc))"
   ]
  },
  {
   "cell_type": "code",
   "execution_count": 56,
   "metadata": {},
   "outputs": [
    {
     "name": "stdout",
     "output_type": "stream",
     "text": [
      "RBF SVM value of C:1, training score :0.974836 , Test Score: 0.912664\n",
      "Test precision: 0.953271, Test roc: 0.915160\n",
      "\n",
      "RBF SVM value of C:3, training score :0.997812 , Test Score: 0.903930\n",
      "Test precision: 0.943925, Test roc: 0.906389\n",
      "\n",
      "RBF SVM value of C:5, training score :1.000000 , Test Score: 0.912664\n",
      "Test precision: 0.943925, Test roc: 0.914586\n",
      "\n",
      "RBF SVM value of C:10, training score :1.000000 , Test Score: 0.912664\n",
      "Test precision: 0.943925, Test roc: 0.914586\n",
      "\n",
      "RBF SVM value of C:40, training score :1.000000 , Test Score: 0.912664\n",
      "Test precision: 0.943925, Test roc: 0.914586\n",
      "\n",
      "RBF SVM value of C:60, training score :1.000000 , Test Score: 0.912664\n",
      "Test precision: 0.943925, Test roc: 0.914586\n",
      "\n",
      "RBF SVM value of C:80, training score :1.000000 , Test Score: 0.912664\n",
      "Test precision: 0.943925, Test roc: 0.914586\n",
      "\n",
      "RBF SVM value of C:100, training score :1.000000 , Test Score: 0.912664\n",
      "Test precision: 0.943925, Test roc: 0.914586\n",
      "\n"
     ]
    }
   ],
   "source": [
    "for this_C in [1,3,5,10,40,60,80,100]:\n",
    "    clf = SVC(kernel='rbf',C=this_C).fit(X_train,Y_train)\n",
    "    scoretrain = clf.score(X_train,Y_train)\n",
    "    scoretest  = clf.score(X_test,Y_test)\n",
    "    Y_predict = clf.predict(X_test)\n",
    "    precisiontest = precision_score(Y_predict, Y_test)\n",
    "    fpr, tpr, thresholds = metrics.roc_curve(Y_test, Y_predict)\n",
    "    roc = metrics.auc(fpr, tpr)\n",
    "    print(\"RBF SVM value of C:{}, training score :{:2f} , Test Score: {:2f}\".format(this_C,scoretrain,scoretest))\n",
    "    print(\"Test precision: {:2f}, Test roc: {:2f}\\n\".format(precisiontest, roc))"
   ]
  },
  {
   "cell_type": "code",
   "execution_count": null,
   "metadata": {},
   "outputs": [],
   "source": []
  }
 ],
 "metadata": {
  "kernelspec": {
   "display_name": "Python 3",
   "language": "python",
   "name": "python3"
  },
  "language_info": {
   "codemirror_mode": {
    "name": "ipython",
    "version": 3
   },
   "file_extension": ".py",
   "mimetype": "text/x-python",
   "name": "python",
   "nbconvert_exporter": "python",
   "pygments_lexer": "ipython3",
   "version": "3.8.5"
  }
 },
 "nbformat": 4,
 "nbformat_minor": 4
}
