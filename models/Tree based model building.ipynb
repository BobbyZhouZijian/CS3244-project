{
 "cells": [
  {
   "cell_type": "code",
   "execution_count": 166,
   "metadata": {},
   "outputs": [],
   "source": [
    "import pandas as pd\n",
    "import numpy as np\n",
    "import matplotlib.pyplot as plt\n",
    "\n",
    "from sklearn import tree, model_selection, ensemble\n",
    "from sklearn.model_selection import train_test_split\n",
    "from sklearn.model_selection import StratifiedKFold, GridSearchCV\n",
    "from sklearn.metrics import accuracy_score, make_scorer"
   ]
  },
  {
   "cell_type": "code",
   "execution_count": 4,
   "metadata": {},
   "outputs": [
    {
     "data": {
      "text/plain": [
       "Index(['MP', 'FG_AVG', 'FGA_AVG', 'FG%_AVG', '2P_AVG', '2PA_AVG', '2P%_AVG',\n",
       "       '3P_AVG', '3PA_AVG', '3P%_AVG', 'FT_AVG', 'FT%_AVG', 'PTS_AVG',\n",
       "       'FG.1_AVG', 'FGA.1_AVG', 'FG%.1_AVG', '2P.1_AVG', '2PA.1_AVG',\n",
       "       '2P%.1_AVG', '3P.1_AVG', '3PA.1_AVG', '3P%.1_AVG', 'FT.1_AVG',\n",
       "       'FTA.1_AVG', 'FT%.1_AVG', 'PTS.1_AVG', 'FG_players_AVG',\n",
       "       'FGA_players_AVG', 'FG%_players_AVG', '3P_players_AVG',\n",
       "       '3PA_players_AVG', '3P%_players_AVG', 'FT_players_AVG',\n",
       "       'FT%_players_AVG', 'ORB_players_AVG', 'DRB_players_AVG',\n",
       "       'TRB_players_AVG', 'AST_players_AVG', 'STL_players_AVG',\n",
       "       'BLK_players_AVG', 'TOV_players_AVG', 'PF_players_AVG',\n",
       "       'PTS_players_AVG', '+/-_players_AVG', 'TS%_players_AVG',\n",
       "       '3PAr_players_AVG', 'FTr_players_AVG', 'ORB%_players_AVG',\n",
       "       'DRB%_players_AVG', 'TRB%_players_AVG', 'AST%_players_AVG',\n",
       "       'STL%_players_AVG', 'BLK%_players_AVG', 'TOV%_players_AVG',\n",
       "       'USG%_players_AVG', 'ORtg_players_AVG', 'DRtg_players_AVG',\n",
       "       'BPM_players_AVG', 'A/T_AVG', 'FG_AVG_AVG', 'y'],\n",
       "      dtype='object')"
      ]
     },
     "execution_count": 4,
     "metadata": {},
     "output_type": "execute_result"
    }
   ],
   "source": [
    "data = pd.read_csv('./match_features.csv', index_col = 0)\n",
    "data.columns"
   ]
  },
  {
   "cell_type": "code",
   "execution_count": 5,
   "metadata": {},
   "outputs": [
    {
     "data": {
      "text/html": [
       "<div>\n",
       "<style scoped>\n",
       "    .dataframe tbody tr th:only-of-type {\n",
       "        vertical-align: middle;\n",
       "    }\n",
       "\n",
       "    .dataframe tbody tr th {\n",
       "        vertical-align: top;\n",
       "    }\n",
       "\n",
       "    .dataframe thead th {\n",
       "        text-align: right;\n",
       "    }\n",
       "</style>\n",
       "<table border=\"1\" class=\"dataframe\">\n",
       "  <thead>\n",
       "    <tr style=\"text-align: right;\">\n",
       "      <th></th>\n",
       "      <th>MP</th>\n",
       "      <th>FG_AVG</th>\n",
       "      <th>FGA_AVG</th>\n",
       "      <th>FG%_AVG</th>\n",
       "      <th>2P_AVG</th>\n",
       "      <th>2PA_AVG</th>\n",
       "      <th>2P%_AVG</th>\n",
       "      <th>3P_AVG</th>\n",
       "      <th>3PA_AVG</th>\n",
       "      <th>3P%_AVG</th>\n",
       "      <th>...</th>\n",
       "      <th>STL%_players_AVG</th>\n",
       "      <th>BLK%_players_AVG</th>\n",
       "      <th>TOV%_players_AVG</th>\n",
       "      <th>USG%_players_AVG</th>\n",
       "      <th>ORtg_players_AVG</th>\n",
       "      <th>DRtg_players_AVG</th>\n",
       "      <th>BPM_players_AVG</th>\n",
       "      <th>A/T_AVG</th>\n",
       "      <th>FG_AVG_AVG</th>\n",
       "      <th>y</th>\n",
       "    </tr>\n",
       "  </thead>\n",
       "  <tbody>\n",
       "    <tr>\n",
       "      <th>0</th>\n",
       "      <td>0</td>\n",
       "      <td>-1.4</td>\n",
       "      <td>2.6</td>\n",
       "      <td>-0.0302</td>\n",
       "      <td>0.4</td>\n",
       "      <td>5.4</td>\n",
       "      <td>-0.0426</td>\n",
       "      <td>-1.8</td>\n",
       "      <td>-2.8</td>\n",
       "      <td>-0.0316</td>\n",
       "      <td>...</td>\n",
       "      <td>0.221960</td>\n",
       "      <td>-0.546554</td>\n",
       "      <td>2.443134</td>\n",
       "      <td>0.623933</td>\n",
       "      <td>-5.701625</td>\n",
       "      <td>-2.037104</td>\n",
       "      <td>-1.159788</td>\n",
       "      <td>-0.315775</td>\n",
       "      <td>0.976896</td>\n",
       "      <td>1</td>\n",
       "    </tr>\n",
       "    <tr>\n",
       "      <th>1</th>\n",
       "      <td>0</td>\n",
       "      <td>-4.1</td>\n",
       "      <td>-14.2</td>\n",
       "      <td>0.0274</td>\n",
       "      <td>-1.7</td>\n",
       "      <td>-6.1</td>\n",
       "      <td>0.0344</td>\n",
       "      <td>-2.4</td>\n",
       "      <td>-8.1</td>\n",
       "      <td>0.0152</td>\n",
       "      <td>...</td>\n",
       "      <td>-0.168279</td>\n",
       "      <td>0.533393</td>\n",
       "      <td>1.842403</td>\n",
       "      <td>-0.002582</td>\n",
       "      <td>4.486208</td>\n",
       "      <td>-4.874819</td>\n",
       "      <td>-0.067360</td>\n",
       "      <td>-0.451256</td>\n",
       "      <td>-3.010764</td>\n",
       "      <td>0</td>\n",
       "    </tr>\n",
       "    <tr>\n",
       "      <th>2</th>\n",
       "      <td>0</td>\n",
       "      <td>2.4</td>\n",
       "      <td>2.0</td>\n",
       "      <td>0.0150</td>\n",
       "      <td>1.7</td>\n",
       "      <td>2.6</td>\n",
       "      <td>-0.0015</td>\n",
       "      <td>0.7</td>\n",
       "      <td>-0.6</td>\n",
       "      <td>0.0269</td>\n",
       "      <td>...</td>\n",
       "      <td>-0.227475</td>\n",
       "      <td>0.346944</td>\n",
       "      <td>0.757610</td>\n",
       "      <td>-0.010248</td>\n",
       "      <td>-0.189826</td>\n",
       "      <td>6.964840</td>\n",
       "      <td>-0.561669</td>\n",
       "      <td>-0.132743</td>\n",
       "      <td>0.644868</td>\n",
       "      <td>1</td>\n",
       "    </tr>\n",
       "    <tr>\n",
       "      <th>3</th>\n",
       "      <td>0</td>\n",
       "      <td>2.6</td>\n",
       "      <td>-1.2</td>\n",
       "      <td>0.0361</td>\n",
       "      <td>2.6</td>\n",
       "      <td>0.7</td>\n",
       "      <td>0.0498</td>\n",
       "      <td>0.0</td>\n",
       "      <td>-1.9</td>\n",
       "      <td>0.0190</td>\n",
       "      <td>...</td>\n",
       "      <td>0.189513</td>\n",
       "      <td>0.999818</td>\n",
       "      <td>1.693740</td>\n",
       "      <td>0.003797</td>\n",
       "      <td>1.964042</td>\n",
       "      <td>-1.389299</td>\n",
       "      <td>0.341002</td>\n",
       "      <td>-0.400132</td>\n",
       "      <td>1.348361</td>\n",
       "      <td>0</td>\n",
       "    </tr>\n",
       "    <tr>\n",
       "      <th>4</th>\n",
       "      <td>0</td>\n",
       "      <td>0.4</td>\n",
       "      <td>-0.5</td>\n",
       "      <td>0.0062</td>\n",
       "      <td>4.4</td>\n",
       "      <td>4.8</td>\n",
       "      <td>0.0378</td>\n",
       "      <td>-4.0</td>\n",
       "      <td>-5.3</td>\n",
       "      <td>-0.0557</td>\n",
       "      <td>...</td>\n",
       "      <td>0.503607</td>\n",
       "      <td>0.028347</td>\n",
       "      <td>0.556315</td>\n",
       "      <td>-0.212838</td>\n",
       "      <td>-9.751847</td>\n",
       "      <td>-13.232417</td>\n",
       "      <td>-0.539127</td>\n",
       "      <td>0.054787</td>\n",
       "      <td>-1.667778</td>\n",
       "      <td>1</td>\n",
       "    </tr>\n",
       "  </tbody>\n",
       "</table>\n",
       "<p>5 rows × 61 columns</p>\n",
       "</div>"
      ],
      "text/plain": [
       "   MP  FG_AVG  FGA_AVG  FG%_AVG  2P_AVG  2PA_AVG  2P%_AVG  3P_AVG  3PA_AVG  \\\n",
       "0   0    -1.4      2.6  -0.0302     0.4      5.4  -0.0426    -1.8     -2.8   \n",
       "1   0    -4.1    -14.2   0.0274    -1.7     -6.1   0.0344    -2.4     -8.1   \n",
       "2   0     2.4      2.0   0.0150     1.7      2.6  -0.0015     0.7     -0.6   \n",
       "3   0     2.6     -1.2   0.0361     2.6      0.7   0.0498     0.0     -1.9   \n",
       "4   0     0.4     -0.5   0.0062     4.4      4.8   0.0378    -4.0     -5.3   \n",
       "\n",
       "   3P%_AVG  ...  STL%_players_AVG  BLK%_players_AVG  TOV%_players_AVG  \\\n",
       "0  -0.0316  ...          0.221960         -0.546554          2.443134   \n",
       "1   0.0152  ...         -0.168279          0.533393          1.842403   \n",
       "2   0.0269  ...         -0.227475          0.346944          0.757610   \n",
       "3   0.0190  ...          0.189513          0.999818          1.693740   \n",
       "4  -0.0557  ...          0.503607          0.028347          0.556315   \n",
       "\n",
       "   USG%_players_AVG  ORtg_players_AVG  DRtg_players_AVG  BPM_players_AVG  \\\n",
       "0          0.623933         -5.701625         -2.037104        -1.159788   \n",
       "1         -0.002582          4.486208         -4.874819        -0.067360   \n",
       "2         -0.010248         -0.189826          6.964840        -0.561669   \n",
       "3          0.003797          1.964042         -1.389299         0.341002   \n",
       "4         -0.212838         -9.751847        -13.232417        -0.539127   \n",
       "\n",
       "    A/T_AVG  FG_AVG_AVG  y  \n",
       "0 -0.315775    0.976896  1  \n",
       "1 -0.451256   -3.010764  0  \n",
       "2 -0.132743    0.644868  1  \n",
       "3 -0.400132    1.348361  0  \n",
       "4  0.054787   -1.667778  1  \n",
       "\n",
       "[5 rows x 61 columns]"
      ]
     },
     "execution_count": 5,
     "metadata": {},
     "output_type": "execute_result"
    }
   ],
   "source": [
    "data.head()"
   ]
  },
  {
   "cell_type": "code",
   "execution_count": 6,
   "metadata": {},
   "outputs": [],
   "source": [
    "data = data.dropna()"
   ]
  },
  {
   "cell_type": "code",
   "execution_count": 7,
   "metadata": {},
   "outputs": [],
   "source": [
    "# one hot on Tm and Opp\n",
    "# one_hot_tm = pd.get_dummies(data[[\"Tm\"]])\n",
    "# one_hot_opp = pd.get_dummies(data[[\"Opp\"]])\n",
    "# data_one_hot = data.join([one_hot_tm, one_hot_opp])"
   ]
  },
  {
   "cell_type": "code",
   "execution_count": 9,
   "metadata": {},
   "outputs": [],
   "source": [
    "X_columns = [i for i in data.columns.tolist() if i not in ['y']]\n",
    "\n",
    "# X_columns = X_columns + one_hot_tm.columns.tolist() + one_hot_opp.columns.tolist()"
   ]
  },
  {
   "cell_type": "code",
   "execution_count": 113,
   "metadata": {},
   "outputs": [],
   "source": [
    "X = data[X_columns]\n",
    "y = data['y']\n",
    "\n",
    "X_train, X_test, y_train, y_test = train_test_split(X, y, test_size=0.2, random_state=12)"
   ]
  },
  {
   "cell_type": "code",
   "execution_count": 108,
   "metadata": {},
   "outputs": [
    {
     "data": {
      "text/plain": [
       "((799, 60), (343, 60), (799,), (343,))"
      ]
     },
     "execution_count": 108,
     "metadata": {},
     "output_type": "execute_result"
    }
   ],
   "source": [
    "X_train.shape, X_test.shape, y_train.shape, y_test.shape"
   ]
  },
  {
   "cell_type": "code",
   "execution_count": 12,
   "metadata": {},
   "outputs": [],
   "source": [
    "# X_train.head()"
   ]
  },
  {
   "cell_type": "markdown",
   "metadata": {},
   "source": [
    "# Decision Tree"
   ]
  },
  {
   "cell_type": "code",
   "execution_count": 30,
   "metadata": {},
   "outputs": [],
   "source": [
    "from sklearn.tree import DecisionTreeClassifier"
   ]
  },
  {
   "cell_type": "code",
   "execution_count": 50,
   "metadata": {},
   "outputs": [
    {
     "data": {
      "text/plain": [
       "GridSearchCV(cv=StratifiedKFold(n_splits=10, random_state=2021, shuffle=True),\n",
       "             estimator=DecisionTreeClassifier(),\n",
       "             param_grid=[{'criterion': ['gini', 'entropy'],\n",
       "                          'max_depth': [4, 5, 6], 'min_samples_leaf': [2, 3, 4],\n",
       "                          'min_samples_split': [2, 3, 4],\n",
       "                          'splitter': ['best', 'random']}])"
      ]
     },
     "execution_count": 50,
     "metadata": {},
     "output_type": "execute_result"
    }
   ],
   "source": [
    "parameters = [\n",
    "    {'criterion': ['gini', 'entropy'], \n",
    "     'splitter': ['best', 'random'], \n",
    "     'max_depth': [4, 5, 6],\n",
    "     'min_samples_split': [2, 3, 4],\n",
    "     'min_samples_leaf': [2, 3, 4]}]\n",
    "\n",
    "clf = GridSearchCV(tree.DecisionTreeClassifier(), \n",
    "                   parameters, \n",
    "                   cv = model_selection.StratifiedKFold(n_splits = 10, shuffle = True, random_state = 2021))\n",
    "\n",
    "clf.fit(X_train, y_train)"
   ]
  },
  {
   "cell_type": "code",
   "execution_count": 51,
   "metadata": {},
   "outputs": [
    {
     "name": "stdout",
     "output_type": "stream",
     "text": [
      "best parameters:  {'criterion': 'entropy', 'max_depth': 5, 'min_samples_leaf': 3, 'min_samples_split': 4, 'splitter': 'best'}\n"
     ]
    }
   ],
   "source": [
    "print('best parameters: ', clf.best_params_)"
   ]
  },
  {
   "cell_type": "code",
   "execution_count": 52,
   "metadata": {},
   "outputs": [
    {
     "name": "stdout",
     "output_type": "stream",
     "text": [
      "Train accuracy 0.6659364731653888\n",
      "Test accuracy 0.5938864628820961\n"
     ]
    }
   ],
   "source": [
    "y_train_pred = clf.predict(X_train)\n",
    "y_pred = clf.predict(X_test)\n",
    "accuracy_train = accuracy_score(y_train, y_train_pred)\n",
    "accuracy_test = accuracy_score(y_test, y_pred)\n",
    "\n",
    "print('Train accuracy', accuracy_train)\n",
    "print('Test accuracy', accuracy_test)"
   ]
  },
  {
   "cell_type": "markdown",
   "metadata": {},
   "source": [
    "# XGBoost"
   ]
  },
  {
   "cell_type": "code",
   "execution_count": 100,
   "metadata": {},
   "outputs": [],
   "source": [
    "from xgboost import XGBClassifier"
   ]
  },
  {
   "cell_type": "code",
   "execution_count": 54,
   "metadata": {},
   "outputs": [
    {
     "data": {
      "text/plain": [
       "GridSearchCV(cv=<generator object _BaseKFold.split at 0x12050bcf0>,\n",
       "             estimator=XGBClassifier(base_score=None, booster=None,\n",
       "                                     colsample_bylevel=None,\n",
       "                                     colsample_bynode=None,\n",
       "                                     colsample_bytree=None, gamma=None,\n",
       "                                     gpu_id=None, importance_type='gain',\n",
       "                                     interaction_constraints=None,\n",
       "                                     learning_rate=None, max_delta_step=None,\n",
       "                                     max_depth=None, min_child_weight=None,\n",
       "                                     missing=nan, mono...\n",
       "                                     reg_alpha=None, reg_lambda=None,\n",
       "                                     scale_pos_weight=None, subsample=None,\n",
       "                                     tree_method=None, validate_parameters=None,\n",
       "                                     verbosity=None),\n",
       "             n_jobs=-1,\n",
       "             param_grid={'colsample_bytree': [0.1, 0.2, 0.30000000000000004,\n",
       "                                              0.4],\n",
       "                         'eta': array([0.01, 0.06, 0.11, 0.16]),\n",
       "                         'gamma': [0, 1, 2], 'max_depth': [4, 5, 6],\n",
       "                         'min_child_weight': [1.0, 1.5],\n",
       "                         'subsample': [0.3, 0.4, 0.5]},\n",
       "             refit='accuracy_score')"
      ]
     },
     "execution_count": 54,
     "metadata": {},
     "output_type": "execute_result"
    }
   ],
   "source": [
    "xgb_model = XGBClassifier(objective = \"binary:logistic\")\n",
    "\n",
    "params = {\n",
    "            'eta': np.arange(0.01, 0.2, 0.05),\n",
    "            'min_child_weight': np.arange(1, 2, 0.5).tolist(),\n",
    "            'gamma': [0, 1, 2],\n",
    "            'subsample': np.arange(0.3, 0.6, 0.1).tolist(),\n",
    "            'colsample_bytree': np.arange(0.1, 0.5, 0.1).tolist(),\n",
    "            'max_depth': [4, 5, 6]\n",
    "        }\n",
    "\n",
    "skf = StratifiedKFold(n_splits=10, shuffle = True)\n",
    "xgb = GridSearchCV(xgb_model, \n",
    "                    param_grid = params,  \n",
    "                    n_jobs = -1, \n",
    "                    cv = skf.split(X_train, y_train),\n",
    "                    refit = \"accuracy_score\")\n",
    "\n",
    "xgb.fit(X_train, y_train)"
   ]
  },
  {
   "cell_type": "code",
   "execution_count": 172,
   "metadata": {},
   "outputs": [
    {
     "name": "stdout",
     "output_type": "stream",
     "text": [
      "best parameters:  {'colsample_bytree': 0.30000000000000004, 'eta': 0.01, 'gamma': 2, 'max_depth': 4, 'min_child_weight': 1.5, 'subsample': 0.3}\n"
     ]
    }
   ],
   "source": [
    "print('best parameters: ', xgb.best_params_)"
   ]
  },
  {
   "cell_type": "code",
   "execution_count": 56,
   "metadata": {},
   "outputs": [
    {
     "name": "stdout",
     "output_type": "stream",
     "text": [
      "Train accuracy 0.7360350492880613\n",
      "Test accuracy 0.6681222707423581\n"
     ]
    }
   ],
   "source": [
    "y_train_pred = xgb.predict(X_train)\n",
    "y_pred = xgb.predict(X_test)\n",
    "accuracy_train = accuracy_score(y_train, y_train_pred)\n",
    "accuracy_test = accuracy_score(y_test, y_pred)\n",
    "\n",
    "print('Train accuracy', accuracy_train)\n",
    "print('Test accuracy', accuracy_test)"
   ]
  },
  {
   "cell_type": "code",
   "execution_count": 114,
   "metadata": {},
   "outputs": [],
   "source": [
    "model = XGBClassifier(colsample_bytree = 0.3, eta=0.01, gamma=2, max_depth=4,\n",
    "                      min_child_weight=1.5, subsample=0.3)"
   ]
  },
  {
   "cell_type": "code",
   "execution_count": 115,
   "metadata": {},
   "outputs": [
    {
     "name": "stdout",
     "output_type": "stream",
     "text": [
      "[0]\tvalidation_0-error:0.38116\tvalidation_0-logloss:0.69207\tvalidation_1-error:0.46725\tvalidation_1-logloss:0.69293\n",
      "[1]\tvalidation_0-error:0.36802\tvalidation_0-logloss:0.69121\tvalidation_1-error:0.48908\tvalidation_1-logloss:0.69228\n",
      "[2]\tvalidation_0-error:0.36473\tvalidation_0-logloss:0.69032\tvalidation_1-error:0.43668\tvalidation_1-logloss:0.69137\n",
      "[3]\tvalidation_0-error:0.35707\tvalidation_0-logloss:0.68933\tvalidation_1-error:0.37991\tvalidation_1-logloss:0.69059\n",
      "[4]\tvalidation_0-error:0.34611\tvalidation_0-logloss:0.68821\tvalidation_1-error:0.37555\tvalidation_1-logloss:0.69027\n",
      "[5]\tvalidation_0-error:0.34502\tvalidation_0-logloss:0.68730\tvalidation_1-error:0.42795\tvalidation_1-logloss:0.68985\n",
      "[6]\tvalidation_0-error:0.33735\tvalidation_0-logloss:0.68634\tvalidation_1-error:0.40611\tvalidation_1-logloss:0.68975\n",
      "[7]\tvalidation_0-error:0.32968\tvalidation_0-logloss:0.68534\tvalidation_1-error:0.40175\tvalidation_1-logloss:0.68938\n",
      "[8]\tvalidation_0-error:0.32749\tvalidation_0-logloss:0.68431\tvalidation_1-error:0.38428\tvalidation_1-logloss:0.68800\n",
      "[9]\tvalidation_0-error:0.32201\tvalidation_0-logloss:0.68337\tvalidation_1-error:0.41048\tvalidation_1-logloss:0.68760\n",
      "[10]\tvalidation_0-error:0.32311\tvalidation_0-logloss:0.68258\tvalidation_1-error:0.41485\tvalidation_1-logloss:0.68733\n",
      "[11]\tvalidation_0-error:0.31544\tvalidation_0-logloss:0.68164\tvalidation_1-error:0.38428\tvalidation_1-logloss:0.68695\n",
      "[12]\tvalidation_0-error:0.31325\tvalidation_0-logloss:0.68076\tvalidation_1-error:0.39301\tvalidation_1-logloss:0.68656\n",
      "[13]\tvalidation_0-error:0.31544\tvalidation_0-logloss:0.68003\tvalidation_1-error:0.41921\tvalidation_1-logloss:0.68621\n",
      "[14]\tvalidation_0-error:0.30559\tvalidation_0-logloss:0.67901\tvalidation_1-error:0.40175\tvalidation_1-logloss:0.68548\n",
      "[15]\tvalidation_0-error:0.29682\tvalidation_0-logloss:0.67822\tvalidation_1-error:0.40175\tvalidation_1-logloss:0.68560\n",
      "[16]\tvalidation_0-error:0.30559\tvalidation_0-logloss:0.67762\tvalidation_1-error:0.38865\tvalidation_1-logloss:0.68485\n",
      "[17]\tvalidation_0-error:0.30340\tvalidation_0-logloss:0.67690\tvalidation_1-error:0.37991\tvalidation_1-logloss:0.68388\n",
      "[18]\tvalidation_0-error:0.31325\tvalidation_0-logloss:0.67606\tvalidation_1-error:0.37555\tvalidation_1-logloss:0.68285\n",
      "[19]\tvalidation_0-error:0.30997\tvalidation_0-logloss:0.67528\tvalidation_1-error:0.37991\tvalidation_1-logloss:0.68185\n",
      "[20]\tvalidation_0-error:0.30559\tvalidation_0-logloss:0.67439\tvalidation_1-error:0.37991\tvalidation_1-logloss:0.68113\n",
      "[21]\tvalidation_0-error:0.29901\tvalidation_0-logloss:0.67340\tvalidation_1-error:0.37118\tvalidation_1-logloss:0.68052\n",
      "[22]\tvalidation_0-error:0.30887\tvalidation_0-logloss:0.67244\tvalidation_1-error:0.36245\tvalidation_1-logloss:0.67964\n",
      "[23]\tvalidation_0-error:0.29463\tvalidation_0-logloss:0.67175\tvalidation_1-error:0.36681\tvalidation_1-logloss:0.67989\n",
      "[24]\tvalidation_0-error:0.29792\tvalidation_0-logloss:0.67062\tvalidation_1-error:0.35808\tvalidation_1-logloss:0.67856\n",
      "[25]\tvalidation_0-error:0.29354\tvalidation_0-logloss:0.67001\tvalidation_1-error:0.36681\tvalidation_1-logloss:0.67862\n",
      "[26]\tvalidation_0-error:0.29463\tvalidation_0-logloss:0.66973\tvalidation_1-error:0.36681\tvalidation_1-logloss:0.67849\n",
      "[27]\tvalidation_0-error:0.29025\tvalidation_0-logloss:0.66889\tvalidation_1-error:0.36245\tvalidation_1-logloss:0.67832\n",
      "[28]\tvalidation_0-error:0.29244\tvalidation_0-logloss:0.66819\tvalidation_1-error:0.34061\tvalidation_1-logloss:0.67805\n",
      "[29]\tvalidation_0-error:0.28806\tvalidation_0-logloss:0.66737\tvalidation_1-error:0.34498\tvalidation_1-logloss:0.67717\n",
      "[30]\tvalidation_0-error:0.28806\tvalidation_0-logloss:0.66662\tvalidation_1-error:0.32751\tvalidation_1-logloss:0.67723\n",
      "[31]\tvalidation_0-error:0.29244\tvalidation_0-logloss:0.66571\tvalidation_1-error:0.32314\tvalidation_1-logloss:0.67634\n",
      "[32]\tvalidation_0-error:0.28587\tvalidation_0-logloss:0.66488\tvalidation_1-error:0.32751\tvalidation_1-logloss:0.67637\n",
      "[33]\tvalidation_0-error:0.28697\tvalidation_0-logloss:0.66383\tvalidation_1-error:0.33188\tvalidation_1-logloss:0.67579\n",
      "[34]\tvalidation_0-error:0.28478\tvalidation_0-logloss:0.66295\tvalidation_1-error:0.33625\tvalidation_1-logloss:0.67527\n",
      "[35]\tvalidation_0-error:0.28258\tvalidation_0-logloss:0.66198\tvalidation_1-error:0.34498\tvalidation_1-logloss:0.67545\n",
      "[36]\tvalidation_0-error:0.28587\tvalidation_0-logloss:0.66108\tvalidation_1-error:0.32751\tvalidation_1-logloss:0.67478\n",
      "[37]\tvalidation_0-error:0.28916\tvalidation_0-logloss:0.66032\tvalidation_1-error:0.34061\tvalidation_1-logloss:0.67420\n",
      "[38]\tvalidation_0-error:0.29354\tvalidation_0-logloss:0.65963\tvalidation_1-error:0.34061\tvalidation_1-logloss:0.67373\n",
      "[39]\tvalidation_0-error:0.29244\tvalidation_0-logloss:0.65888\tvalidation_1-error:0.34061\tvalidation_1-logloss:0.67321\n",
      "[40]\tvalidation_0-error:0.28368\tvalidation_0-logloss:0.65822\tvalidation_1-error:0.33188\tvalidation_1-logloss:0.67249\n",
      "[41]\tvalidation_0-error:0.29244\tvalidation_0-logloss:0.65772\tvalidation_1-error:0.33188\tvalidation_1-logloss:0.67226\n",
      "[42]\tvalidation_0-error:0.28916\tvalidation_0-logloss:0.65719\tvalidation_1-error:0.32751\tvalidation_1-logloss:0.67194\n",
      "[43]\tvalidation_0-error:0.29025\tvalidation_0-logloss:0.65645\tvalidation_1-error:0.33188\tvalidation_1-logloss:0.67163\n",
      "[44]\tvalidation_0-error:0.29354\tvalidation_0-logloss:0.65578\tvalidation_1-error:0.32751\tvalidation_1-logloss:0.67166\n",
      "[45]\tvalidation_0-error:0.28697\tvalidation_0-logloss:0.65485\tvalidation_1-error:0.32751\tvalidation_1-logloss:0.67226\n",
      "[46]\tvalidation_0-error:0.28258\tvalidation_0-logloss:0.65417\tvalidation_1-error:0.33188\tvalidation_1-logloss:0.67218\n",
      "[47]\tvalidation_0-error:0.27930\tvalidation_0-logloss:0.65355\tvalidation_1-error:0.33188\tvalidation_1-logloss:0.67205\n",
      "[48]\tvalidation_0-error:0.27930\tvalidation_0-logloss:0.65314\tvalidation_1-error:0.32314\tvalidation_1-logloss:0.67129\n",
      "[49]\tvalidation_0-error:0.27711\tvalidation_0-logloss:0.65254\tvalidation_1-error:0.31878\tvalidation_1-logloss:0.67097\n",
      "[50]\tvalidation_0-error:0.28149\tvalidation_0-logloss:0.65184\tvalidation_1-error:0.31878\tvalidation_1-logloss:0.67039\n",
      "[51]\tvalidation_0-error:0.28587\tvalidation_0-logloss:0.65127\tvalidation_1-error:0.32314\tvalidation_1-logloss:0.67040\n",
      "[52]\tvalidation_0-error:0.28587\tvalidation_0-logloss:0.65080\tvalidation_1-error:0.33188\tvalidation_1-logloss:0.67036\n",
      "[53]\tvalidation_0-error:0.28587\tvalidation_0-logloss:0.65002\tvalidation_1-error:0.31878\tvalidation_1-logloss:0.66961\n",
      "[54]\tvalidation_0-error:0.28258\tvalidation_0-logloss:0.64940\tvalidation_1-error:0.34061\tvalidation_1-logloss:0.66967\n",
      "[55]\tvalidation_0-error:0.28587\tvalidation_0-logloss:0.64881\tvalidation_1-error:0.32751\tvalidation_1-logloss:0.66893\n",
      "[56]\tvalidation_0-error:0.28368\tvalidation_0-logloss:0.64819\tvalidation_1-error:0.32751\tvalidation_1-logloss:0.66868\n",
      "[57]\tvalidation_0-error:0.27930\tvalidation_0-logloss:0.64740\tvalidation_1-error:0.33188\tvalidation_1-logloss:0.66777\n",
      "[58]\tvalidation_0-error:0.27711\tvalidation_0-logloss:0.64663\tvalidation_1-error:0.33188\tvalidation_1-logloss:0.66709\n",
      "[59]\tvalidation_0-error:0.28368\tvalidation_0-logloss:0.64614\tvalidation_1-error:0.32751\tvalidation_1-logloss:0.66614\n",
      "[60]\tvalidation_0-error:0.27930\tvalidation_0-logloss:0.64535\tvalidation_1-error:0.33625\tvalidation_1-logloss:0.66591\n",
      "[61]\tvalidation_0-error:0.27711\tvalidation_0-logloss:0.64485\tvalidation_1-error:0.32751\tvalidation_1-logloss:0.66612\n",
      "[62]\tvalidation_0-error:0.27820\tvalidation_0-logloss:0.64406\tvalidation_1-error:0.32314\tvalidation_1-logloss:0.66539\n",
      "[63]\tvalidation_0-error:0.28368\tvalidation_0-logloss:0.64317\tvalidation_1-error:0.34498\tvalidation_1-logloss:0.66462\n",
      "[64]\tvalidation_0-error:0.27163\tvalidation_0-logloss:0.64261\tvalidation_1-error:0.32751\tvalidation_1-logloss:0.66468\n",
      "[65]\tvalidation_0-error:0.28368\tvalidation_0-logloss:0.64176\tvalidation_1-error:0.33625\tvalidation_1-logloss:0.66447\n",
      "[66]\tvalidation_0-error:0.28478\tvalidation_0-logloss:0.64094\tvalidation_1-error:0.33625\tvalidation_1-logloss:0.66443\n",
      "[67]\tvalidation_0-error:0.27601\tvalidation_0-logloss:0.64005\tvalidation_1-error:0.33625\tvalidation_1-logloss:0.66429\n",
      "[68]\tvalidation_0-error:0.27820\tvalidation_0-logloss:0.63943\tvalidation_1-error:0.34498\tvalidation_1-logloss:0.66403\n",
      "[69]\tvalidation_0-error:0.27711\tvalidation_0-logloss:0.63902\tvalidation_1-error:0.33625\tvalidation_1-logloss:0.66377\n",
      "[70]\tvalidation_0-error:0.27492\tvalidation_0-logloss:0.63830\tvalidation_1-error:0.33625\tvalidation_1-logloss:0.66341\n"
     ]
    },
    {
     "name": "stdout",
     "output_type": "stream",
     "text": [
      "[71]\tvalidation_0-error:0.27492\tvalidation_0-logloss:0.63765\tvalidation_1-error:0.33625\tvalidation_1-logloss:0.66305\n",
      "[72]\tvalidation_0-error:0.27054\tvalidation_0-logloss:0.63695\tvalidation_1-error:0.33625\tvalidation_1-logloss:0.66335\n",
      "[73]\tvalidation_0-error:0.26506\tvalidation_0-logloss:0.63635\tvalidation_1-error:0.32751\tvalidation_1-logloss:0.66279\n",
      "[74]\tvalidation_0-error:0.26506\tvalidation_0-logloss:0.63547\tvalidation_1-error:0.34498\tvalidation_1-logloss:0.66250\n",
      "[75]\tvalidation_0-error:0.26177\tvalidation_0-logloss:0.63485\tvalidation_1-error:0.33625\tvalidation_1-logloss:0.66219\n",
      "[76]\tvalidation_0-error:0.26944\tvalidation_0-logloss:0.63399\tvalidation_1-error:0.33625\tvalidation_1-logloss:0.66164\n",
      "[77]\tvalidation_0-error:0.26725\tvalidation_0-logloss:0.63343\tvalidation_1-error:0.33625\tvalidation_1-logloss:0.66172\n",
      "[78]\tvalidation_0-error:0.27163\tvalidation_0-logloss:0.63305\tvalidation_1-error:0.34061\tvalidation_1-logloss:0.66100\n",
      "[79]\tvalidation_0-error:0.27382\tvalidation_0-logloss:0.63230\tvalidation_1-error:0.33188\tvalidation_1-logloss:0.66028\n",
      "[80]\tvalidation_0-error:0.27382\tvalidation_0-logloss:0.63190\tvalidation_1-error:0.32751\tvalidation_1-logloss:0.66024\n",
      "[81]\tvalidation_0-error:0.27163\tvalidation_0-logloss:0.63133\tvalidation_1-error:0.32314\tvalidation_1-logloss:0.65989\n",
      "[82]\tvalidation_0-error:0.27273\tvalidation_0-logloss:0.63069\tvalidation_1-error:0.32751\tvalidation_1-logloss:0.65990\n",
      "[83]\tvalidation_0-error:0.26944\tvalidation_0-logloss:0.63001\tvalidation_1-error:0.33188\tvalidation_1-logloss:0.65974\n",
      "[84]\tvalidation_0-error:0.27054\tvalidation_0-logloss:0.62940\tvalidation_1-error:0.32314\tvalidation_1-logloss:0.66014\n",
      "[85]\tvalidation_0-error:0.27054\tvalidation_0-logloss:0.62864\tvalidation_1-error:0.32314\tvalidation_1-logloss:0.66021\n",
      "[86]\tvalidation_0-error:0.27163\tvalidation_0-logloss:0.62794\tvalidation_1-error:0.33188\tvalidation_1-logloss:0.66025\n",
      "[87]\tvalidation_0-error:0.27273\tvalidation_0-logloss:0.62746\tvalidation_1-error:0.32314\tvalidation_1-logloss:0.66029\n",
      "[88]\tvalidation_0-error:0.26506\tvalidation_0-logloss:0.62675\tvalidation_1-error:0.31878\tvalidation_1-logloss:0.66006\n",
      "[89]\tvalidation_0-error:0.26397\tvalidation_0-logloss:0.62623\tvalidation_1-error:0.32314\tvalidation_1-logloss:0.65952\n",
      "[90]\tvalidation_0-error:0.26068\tvalidation_0-logloss:0.62570\tvalidation_1-error:0.31878\tvalidation_1-logloss:0.65916\n",
      "[91]\tvalidation_0-error:0.26725\tvalidation_0-logloss:0.62535\tvalidation_1-error:0.32314\tvalidation_1-logloss:0.65913\n",
      "[92]\tvalidation_0-error:0.26616\tvalidation_0-logloss:0.62499\tvalidation_1-error:0.32751\tvalidation_1-logloss:0.65948\n",
      "[93]\tvalidation_0-error:0.26506\tvalidation_0-logloss:0.62408\tvalidation_1-error:0.33625\tvalidation_1-logloss:0.65911\n",
      "[94]\tvalidation_0-error:0.26397\tvalidation_0-logloss:0.62355\tvalidation_1-error:0.33625\tvalidation_1-logloss:0.65913\n",
      "[95]\tvalidation_0-error:0.26177\tvalidation_0-logloss:0.62315\tvalidation_1-error:0.34061\tvalidation_1-logloss:0.65880\n",
      "[96]\tvalidation_0-error:0.26287\tvalidation_0-logloss:0.62267\tvalidation_1-error:0.33625\tvalidation_1-logloss:0.65836\n",
      "[97]\tvalidation_0-error:0.26397\tvalidation_0-logloss:0.62201\tvalidation_1-error:0.35371\tvalidation_1-logloss:0.65846\n",
      "[98]\tvalidation_0-error:0.26397\tvalidation_0-logloss:0.62170\tvalidation_1-error:0.34061\tvalidation_1-logloss:0.65842\n",
      "[99]\tvalidation_0-error:0.26397\tvalidation_0-logloss:0.62094\tvalidation_1-error:0.33188\tvalidation_1-logloss:0.65784\n"
     ]
    }
   ],
   "source": [
    "eval_set = [(X_train, y_train), (X_test, y_test)]\n",
    "model.fit(X_train, y_train, eval_metric=[\"error\", \"logloss\"], eval_set=eval_set, verbose=True)\n",
    "\n",
    "y_train_pred = model.predict(X_train)\n",
    "y_pred = model.predict(X_test)"
   ]
  },
  {
   "cell_type": "code",
   "execution_count": 116,
   "metadata": {},
   "outputs": [
    {
     "data": {
      "image/png": "[encoded data removed]",
      "text/plain": [
       "<Figure size 432x288 with 1 Axes>"
      ]
     },
     "metadata": {
      "needs_background": "light"
     },
     "output_type": "display_data"
    },
    {
     "data": {
      "image/png": "[encoded data removed]",
      "text/plain": [
       "<Figure size 432x288 with 1 Axes>"
      ]
     },
     "metadata": {
      "needs_background": "light"
     },
     "output_type": "display_data"
    }
   ],
   "source": [
    "from matplotlib import pyplot\n",
    "\n",
    "results = model.evals_result()\n",
    "epochs = len(results['validation_0']['error'])\n",
    "x_axis = range(0, epochs)\n",
    "# plot log loss\n",
    "fig, ax = pyplot.subplots()\n",
    "ax.plot(x_axis, results['validation_0']['logloss'], label='Train')\n",
    "ax.plot(x_axis, results['validation_1']['logloss'], label='Test')\n",
    "ax.legend()\n",
    "pyplot.ylabel('Log Loss')\n",
    "pyplot.title('XGBoost Log Loss')\n",
    "pyplot.show()\n",
    "# plot classification error\n",
    "fig, ax = pyplot.subplots()\n",
    "ax.plot(x_axis, results['validation_0']['error'], label='Train')\n",
    "ax.plot(x_axis, results['validation_1']['error'], label='Test')\n",
    "ax.legend()\n",
    "pyplot.ylabel('Classification Error')\n",
    "pyplot.title('XGBoost Classification Error')\n",
    "pyplot.show()"
   ]
  },
  {
   "cell_type": "markdown",
   "metadata": {},
   "source": [
    "https://blog.csdn.net/lujiandong1/article/details/52777168"
   ]
  },
  {
   "cell_type": "code",
   "execution_count": 117,
   "metadata": {},
   "outputs": [
    {
     "name": "stdout",
     "output_type": "stream",
     "text": [
      "Train accuracy 0.7360350492880613\n",
      "Test accuracy 0.6681222707423581\n"
     ]
    }
   ],
   "source": [
    "y_train_pred = model.predict(X_train)\n",
    "y_pred = model.predict(X_test)\n",
    "accuracy_train = accuracy_score(y_train, y_train_pred)\n",
    "accuracy_test = accuracy_score(y_test, y_pred)\n",
    "\n",
    "print('Train accuracy', accuracy_train)\n",
    "print('Test accuracy', accuracy_test)"
   ]
  },
  {
   "cell_type": "code",
   "execution_count": null,
   "metadata": {},
   "outputs": [],
   "source": []
  },
  {
   "cell_type": "markdown",
   "metadata": {},
   "source": [
    "# Random Forest"
   ]
  },
  {
   "cell_type": "code",
   "execution_count": 73,
   "metadata": {},
   "outputs": [],
   "source": [
    "from sklearn.ensemble import RandomForestClassifier"
   ]
  },
  {
   "cell_type": "code",
   "execution_count": 74,
   "metadata": {},
   "outputs": [
    {
     "name": "stdout",
     "output_type": "stream",
     "text": [
      "Fitting 3 folds for each of 81 candidates, totalling 243 fits\n"
     ]
    },
    {
     "name": "stderr",
     "output_type": "stream",
     "text": [
      "[Parallel(n_jobs=-1)]: Using backend LokyBackend with 4 concurrent workers.\n",
      "[Parallel(n_jobs=-1)]: Done  42 tasks      | elapsed:   19.6s\n",
      "[Parallel(n_jobs=-1)]: Done 192 tasks      | elapsed:  1.3min\n",
      "[Parallel(n_jobs=-1)]: Done 243 out of 243 | elapsed:  1.6min finished\n"
     ]
    },
    {
     "data": {
      "text/plain": [
       "GridSearchCV(cv=3,\n",
       "             estimator=RandomForestClassifier(min_samples_split=1,\n",
       "                                              n_estimators=10, random_state=1),\n",
       "             n_jobs=-1,\n",
       "             param_grid={'max_depth': [5, 10, 20],\n",
       "                         'min_samples_leaf': [1, 2, 5],\n",
       "                         'min_samples_split': [2, 5, 10],\n",
       "                         'n_estimators': [100, 300, 500]},\n",
       "             verbose=1)"
      ]
     },
     "execution_count": 74,
     "metadata": {},
     "output_type": "execute_result"
    }
   ],
   "source": [
    "forest = RandomForestClassifier(random_state = 1, n_estimators = 10, min_samples_split = 1)\n",
    "\n",
    "params = {\n",
    "            'n_estimators': [100, 300, 500, 1000],\n",
    "            'max_depth': [5, 10, 20],\n",
    "            'min_samples_split': [2, 5, 10],\n",
    "            'min_samples_leaf': [1, 2, 5]\n",
    "        }\n",
    "\n",
    "rf = GridSearchCV(forest, params, cv = 3, verbose = 1, \n",
    "                      n_jobs = -1)\n",
    "rf.fit(X_train, y_train)"
   ]
  },
  {
   "cell_type": "code",
   "execution_count": 173,
   "metadata": {},
   "outputs": [
    {
     "name": "stdout",
     "output_type": "stream",
     "text": [
      "best parameters:  {'max_depth': 5, 'min_samples_leaf': 2, 'min_samples_split': 5, 'n_estimators': 500}\n"
     ]
    }
   ],
   "source": [
    "print('best parameters: ', rf.best_params_)"
   ]
  },
  {
   "cell_type": "code",
   "execution_count": 77,
   "metadata": {},
   "outputs": [
    {
     "name": "stdout",
     "output_type": "stream",
     "text": [
      "Train accuracy 0.823658269441402\n",
      "Test accuracy 0.6724890829694323\n"
     ]
    }
   ],
   "source": [
    "y_train_pred = rf.predict(X_train)\n",
    "y_pred = rf.predict(X_test)\n",
    "\n",
    "accuracy_train = accuracy_score(y_train, y_train_pred)\n",
    "accuracy_test = accuracy_score(y_test, y_pred)\n",
    "print('Train accuracy', accuracy_train)\n",
    "print('Test accuracy', accuracy_test)"
   ]
  },
  {
   "cell_type": "markdown",
   "metadata": {},
   "source": [
    "### tune max_depth to avoid overfitting"
   ]
  },
  {
   "cell_type": "code",
   "execution_count": 160,
   "metadata": {},
   "outputs": [
    {
     "data": {
      "text/plain": [
       "RandomForestClassifier(max_depth=3, min_samples_leaf=2, min_samples_split=5,\n",
       "                       n_estimators=1000)"
      ]
     },
     "execution_count": 160,
     "metadata": {},
     "output_type": "execute_result"
    }
   ],
   "source": [
    "model = RandomForestClassifier(max_depth = 3, min_samples_leaf=2, \n",
    "                                min_samples_split=5, n_estimators=1000)\n",
    "model.fit(X_train, y_train)"
   ]
  },
  {
   "cell_type": "code",
   "execution_count": 161,
   "metadata": {},
   "outputs": [
    {
     "name": "stdout",
     "output_type": "stream",
     "text": [
      "Train accuracy 0.6955093099671413\n",
      "Test accuracy 0.6855895196506551\n"
     ]
    }
   ],
   "source": [
    "y_train_pred = model.predict(X_train)\n",
    "y_pred = model.predict(X_test)\n",
    "accuracy_train = accuracy_score(y_train, y_train_pred)\n",
    "accuracy_test = accuracy_score(y_test, y_pred)\n",
    "\n",
    "print('Train accuracy', accuracy_train)\n",
    "print('Test accuracy', accuracy_test)"
   ]
  },
  {
   "cell_type": "code",
   "execution_count": null,
   "metadata": {},
   "outputs": [],
   "source": [
    "import lime\n",
    "import lime.lime_tabular"
   ]
  },
  {
   "cell_type": "code",
   "execution_count": null,
   "metadata": {},
   "outputs": [],
   "source": [
    "predict_fn_rf = lambda x: model.predict_proba(x).astype(float)\n",
    "X = X_train.values\n",
    "explainer = lime.lime_tabular.LimeTabularExplainer(X,feature_names = X_train.columns,class_names=['Will Die','Will Survive'],kernel_width=5)"
   ]
  },
  {
   "cell_type": "code",
   "execution_count": null,
   "metadata": {},
   "outputs": [],
   "source": []
  },
  {
   "cell_type": "markdown",
   "metadata": {},
   "source": [
    "# Adaboost"
   ]
  },
  {
   "cell_type": "code",
   "execution_count": 102,
   "metadata": {},
   "outputs": [],
   "source": [
    "from sklearn.ensemble import AdaBoostClassifier"
   ]
  },
  {
   "cell_type": "code",
   "execution_count": 103,
   "metadata": {},
   "outputs": [
    {
     "data": {
      "text/plain": [
       "{'learning_rate': 0.001, 'n_estimators': 2000}"
      ]
     },
     "execution_count": 103,
     "metadata": {},
     "output_type": "execute_result"
    }
   ],
   "source": [
    "ada = AdaBoostClassifier()\n",
    "params = {\n",
    "            'n_estimators': [500, 1000, 2000],\n",
    "            'learning_rate': [.001,0.01,.1]\n",
    "        }\n",
    "adb = GridSearchCV(estimator = ada, param_grid = params, scoring='accuracy', \n",
    "                   n_jobs=1, cv = 3)\n",
    "adb.fit(X_train, y_train)\n",
    "adb.best_params_"
   ]
  },
  {
   "cell_type": "code",
   "execution_count": 174,
   "metadata": {},
   "outputs": [
    {
     "name": "stdout",
     "output_type": "stream",
     "text": [
      "best parameters:  {'learning_rate': 0.001, 'n_estimators': 2000}\n"
     ]
    }
   ],
   "source": [
    "print('best parameters: ', adb.best_params_)"
   ]
  },
  {
   "cell_type": "code",
   "execution_count": 106,
   "metadata": {},
   "outputs": [
    {
     "name": "stdout",
     "output_type": "stream",
     "text": [
      "Train accuracy 0.6210295728368017\n",
      "Test accuracy 0.6419213973799127\n"
     ]
    }
   ],
   "source": [
    "y_train_pred = adb.predict(X_train)\n",
    "y_pred = adb.predict(X_test)\n",
    "\n",
    "accuracy_train = accuracy_score(y_train, y_train_pred)\n",
    "accuracy_test = accuracy_score(y_test, y_pred)\n",
    "print('Train accuracy', accuracy_train)\n",
    "print('Test accuracy', accuracy_test)"
   ]
  },
  {
   "cell_type": "code",
   "execution_count": null,
   "metadata": {},
   "outputs": [],
   "source": []
  },
  {
   "cell_type": "markdown",
   "metadata": {},
   "source": [
    "# lightGBM"
   ]
  },
  {
   "cell_type": "code",
   "execution_count": 167,
   "metadata": {},
   "outputs": [],
   "source": [
    "import lightgbm as lgb\n",
    "from lightgbm import LGBMRegressor"
   ]
  },
  {
   "cell_type": "code",
   "execution_count": null,
   "metadata": {},
   "outputs": [],
   "source": [
    "gbm = lgb.LGBMClassifier(objective = 'binary',\n",
    "                         is_unbalance = True,\n",
    "                         metric = 'binary_logloss,auc',\n",
    "                         max_depth = 3,\n",
    "                         num_leaves = 40,\n",
    "                         learning_rate = 0.001,\n",
    "                         feature_fraction = 0.6,\n",
    "                         min_child_samples=21,\n",
    "                         min_child_weight=0.002,\n",
    "                         bagging_fraction = 0.8,\n",
    "                         bagging_freq = 10,\n",
    "                         reg_alpha = 0.001,\n",
    "                         reg_lambda = 8,\n",
    "                         cat_smooth = 20,\n",
    "                         num_iterations =350,   \n",
    "                        )"
   ]
  },
  {
   "cell_type": "code",
   "execution_count": null,
   "metadata": {},
   "outputs": [],
   "source": [
    "gbm.fit(X_train, y_train)\n",
    "y_train_pred = gbm.predict(X_train)\n",
    "y_pred = gbm.predict(X_test)\n",
    "accuracy_train = accuracy_score(y_train, y_train_pred)\n",
    "accuracy_test = accuracy_score(y_test, y_pred)\n",
    "\n",
    "print('Train accuracy', accuracy_train)\n",
    "print('Test accuracy', accuracy_test)"
   ]
  },
  {
   "cell_type": "code",
   "execution_count": null,
   "metadata": {},
   "outputs": [],
   "source": []
  },
  {
   "cell_type": "code",
   "execution_count": null,
   "metadata": {},
   "outputs": [],
   "source": []
  }
 ],
 "metadata": {
  "kernelspec": {
   "display_name": "Python 3",
   "language": "python",
   "name": "python3"
  },
  "language_info": {
   "codemirror_mode": {
    "name": "ipython",
    "version": 3
   },
   "file_extension": ".py",
   "mimetype": "text/x-python",
   "name": "python",
   "nbconvert_exporter": "python",
   "pygments_lexer": "ipython3",
   "version": "3.8.2"
  }
 },
 "nbformat": 4,
 "nbformat_minor": 4
}
